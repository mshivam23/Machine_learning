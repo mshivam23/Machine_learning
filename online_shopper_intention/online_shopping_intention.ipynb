{
 "cells": [
  {
   "cell_type": "code",
   "execution_count": 1,
   "metadata": {},
   "outputs": [],
   "source": [
    "# dataset::   online_shoppers_intention"
   ]
  },
  {
   "cell_type": "code",
   "execution_count": 2,
   "metadata": {},
   "outputs": [
    {
     "name": "stdout",
     "output_type": "stream",
     "text": [
      "       Administrative  Administrative_Duration  Informational  \\\n",
      "0                   0                      0.0              0   \n",
      "1                   0                      0.0              0   \n",
      "2                   0                      0.0              0   \n",
      "3                   0                      0.0              0   \n",
      "4                   0                      0.0              0   \n",
      "...               ...                      ...            ...   \n",
      "12325               3                    145.0              0   \n",
      "12326               0                      0.0              0   \n",
      "12327               0                      0.0              0   \n",
      "12328               4                     75.0              0   \n",
      "12329               0                      0.0              0   \n",
      "\n",
      "       Informational_Duration  ProductRelated  ProductRelated_Duration  \\\n",
      "0                         0.0               1                 0.000000   \n",
      "1                         0.0               2                64.000000   \n",
      "2                         0.0               1                 0.000000   \n",
      "3                         0.0               2                 2.666667   \n",
      "4                         0.0              10               627.500000   \n",
      "...                       ...             ...                      ...   \n",
      "12325                     0.0              53              1783.791667   \n",
      "12326                     0.0               5               465.750000   \n",
      "12327                     0.0               6               184.250000   \n",
      "12328                     0.0              15               346.000000   \n",
      "12329                     0.0               3                21.250000   \n",
      "\n",
      "       BounceRates  ExitRates  PageValues  SpecialDay Month  OperatingSystems  \\\n",
      "0         0.200000   0.200000    0.000000         0.0   Feb                 1   \n",
      "1         0.000000   0.100000    0.000000         0.0   Feb                 2   \n",
      "2         0.200000   0.200000    0.000000         0.0   Feb                 4   \n",
      "3         0.050000   0.140000    0.000000         0.0   Feb                 3   \n",
      "4         0.020000   0.050000    0.000000         0.0   Feb                 3   \n",
      "...            ...        ...         ...         ...   ...               ...   \n",
      "12325     0.007143   0.029031   12.241717         0.0   Dec                 4   \n",
      "12326     0.000000   0.021333    0.000000         0.0   Nov                 3   \n",
      "12327     0.083333   0.086667    0.000000         0.0   Nov                 3   \n",
      "12328     0.000000   0.021053    0.000000         0.0   Nov                 2   \n",
      "12329     0.000000   0.066667    0.000000         0.0   Nov                 3   \n",
      "\n",
      "       Browser  Region  TrafficType        VisitorType  Weekend  Revenue  \n",
      "0            1       1            1  Returning_Visitor    False    False  \n",
      "1            2       1            2  Returning_Visitor    False    False  \n",
      "2            1       9            3  Returning_Visitor    False    False  \n",
      "3            2       2            4  Returning_Visitor    False    False  \n",
      "4            3       1            4  Returning_Visitor     True    False  \n",
      "...        ...     ...          ...                ...      ...      ...  \n",
      "12325        6       1            1  Returning_Visitor     True    False  \n",
      "12326        2       1            8  Returning_Visitor     True    False  \n",
      "12327        2       1           13  Returning_Visitor     True    False  \n",
      "12328        2       3           11  Returning_Visitor    False    False  \n",
      "12329        2       1            2        New_Visitor     True    False  \n",
      "\n",
      "[12330 rows x 18 columns]\n",
      "Index(['Administrative', 'Administrative_Duration', 'Informational',\n",
      "       'Informational_Duration', 'ProductRelated', 'ProductRelated_Duration',\n",
      "       'BounceRates', 'ExitRates', 'PageValues', 'SpecialDay', 'Month',\n",
      "       'OperatingSystems', 'Browser', 'Region', 'TrafficType', 'VisitorType',\n",
      "       'Weekend', 'Revenue'],\n",
      "      dtype='object')\n",
      "Administrative             0\n",
      "Administrative_Duration    0\n",
      "Informational              0\n",
      "Informational_Duration     0\n",
      "ProductRelated             0\n",
      "ProductRelated_Duration    0\n",
      "BounceRates                0\n",
      "ExitRates                  0\n",
      "PageValues                 0\n",
      "SpecialDay                 0\n",
      "Month                      0\n",
      "OperatingSystems           0\n",
      "Browser                    0\n",
      "Region                     0\n",
      "TrafficType                0\n",
      "VisitorType                0\n",
      "Weekend                    0\n",
      "Revenue                    0\n",
      "dtype: int64\n"
     ]
    }
   ],
   "source": [
    "#importing basic libraries\n",
    "import numpy as np\n",
    "import pandas as pd\n",
    "import matplotlib.pyplot as plt\n",
    "import seaborn as sns\n",
    "\n",
    "\n",
    "#reading CSV file\n",
    "dataset=pd.read_csv(\"online_shoppers_intention.csv\")\n",
    "print(dataset)\n",
    "print(dataset.columns)\n",
    "missing=dataset.isnull().sum()   #checking for null value\n",
    "print(missing)"
   ]
  },
  {
   "cell_type": "code",
   "execution_count": 3,
   "metadata": {},
   "outputs": [
    {
     "data": {
      "text/plain": [
       "<matplotlib.axes._subplots.AxesSubplot at 0x187c03ca580>"
      ]
     },
     "execution_count": 3,
     "metadata": {},
     "output_type": "execute_result"
    },
    {
     "data": {
      "image/png": "[encoded data removed]",
      "text/plain": [
       "<Figure size 432x288 with 2 Axes>"
      ]
     },
     "metadata": {
      "needs_background": "light"
     },
     "output_type": "display_data"
    }
   ],
   "source": [
    "sns.heatmap(dataset.isnull(),yticklabels=False)   #plotting if any null value there"
   ]
  },
  {
   "cell_type": "code",
   "execution_count": 4,
   "metadata": {},
   "outputs": [
    {
     "data": {
      "text/html": [
       "<div>\n",
       "<style scoped>\n",
       "    .dataframe tbody tr th:only-of-type {\n",
       "        vertical-align: middle;\n",
       "    }\n",
       "\n",
       "    .dataframe tbody tr th {\n",
       "        vertical-align: top;\n",
       "    }\n",
       "\n",
       "    .dataframe thead th {\n",
       "        text-align: right;\n",
       "    }\n",
       "</style>\n",
       "<table border=\"1\" class=\"dataframe\">\n",
       "  <thead>\n",
       "    <tr style=\"text-align: right;\">\n",
       "      <th></th>\n",
       "      <th>Administrative</th>\n",
       "      <th>Administrative_Duration</th>\n",
       "      <th>Informational</th>\n",
       "      <th>Informational_Duration</th>\n",
       "      <th>ProductRelated</th>\n",
       "      <th>ProductRelated_Duration</th>\n",
       "      <th>BounceRates</th>\n",
       "      <th>ExitRates</th>\n",
       "      <th>PageValues</th>\n",
       "      <th>SpecialDay</th>\n",
       "      <th>OperatingSystems</th>\n",
       "      <th>Browser</th>\n",
       "      <th>Region</th>\n",
       "      <th>TrafficType</th>\n",
       "    </tr>\n",
       "  </thead>\n",
       "  <tbody>\n",
       "    <tr>\n",
       "      <th>count</th>\n",
       "      <td>12330.000000</td>\n",
       "      <td>12330.000000</td>\n",
       "      <td>12330.000000</td>\n",
       "      <td>12330.000000</td>\n",
       "      <td>12330.000000</td>\n",
       "      <td>12330.000000</td>\n",
       "      <td>12330.000000</td>\n",
       "      <td>12330.000000</td>\n",
       "      <td>12330.000000</td>\n",
       "      <td>12330.000000</td>\n",
       "      <td>12330.000000</td>\n",
       "      <td>12330.000000</td>\n",
       "      <td>12330.000000</td>\n",
       "      <td>12330.000000</td>\n",
       "    </tr>\n",
       "    <tr>\n",
       "      <th>mean</th>\n",
       "      <td>2.315166</td>\n",
       "      <td>80.818611</td>\n",
       "      <td>0.503569</td>\n",
       "      <td>34.472398</td>\n",
       "      <td>31.731468</td>\n",
       "      <td>1194.746220</td>\n",
       "      <td>0.022191</td>\n",
       "      <td>0.043073</td>\n",
       "      <td>5.889258</td>\n",
       "      <td>0.061427</td>\n",
       "      <td>2.124006</td>\n",
       "      <td>2.357097</td>\n",
       "      <td>3.147364</td>\n",
       "      <td>4.069586</td>\n",
       "    </tr>\n",
       "    <tr>\n",
       "      <th>std</th>\n",
       "      <td>3.321784</td>\n",
       "      <td>176.779107</td>\n",
       "      <td>1.270156</td>\n",
       "      <td>140.749294</td>\n",
       "      <td>44.475503</td>\n",
       "      <td>1913.669288</td>\n",
       "      <td>0.048488</td>\n",
       "      <td>0.048597</td>\n",
       "      <td>18.568437</td>\n",
       "      <td>0.198917</td>\n",
       "      <td>0.911325</td>\n",
       "      <td>1.717277</td>\n",
       "      <td>2.401591</td>\n",
       "      <td>4.025169</td>\n",
       "    </tr>\n",
       "    <tr>\n",
       "      <th>min</th>\n",
       "      <td>0.000000</td>\n",
       "      <td>0.000000</td>\n",
       "      <td>0.000000</td>\n",
       "      <td>0.000000</td>\n",
       "      <td>0.000000</td>\n",
       "      <td>0.000000</td>\n",
       "      <td>0.000000</td>\n",
       "      <td>0.000000</td>\n",
       "      <td>0.000000</td>\n",
       "      <td>0.000000</td>\n",
       "      <td>1.000000</td>\n",
       "      <td>1.000000</td>\n",
       "      <td>1.000000</td>\n",
       "      <td>1.000000</td>\n",
       "    </tr>\n",
       "    <tr>\n",
       "      <th>25%</th>\n",
       "      <td>0.000000</td>\n",
       "      <td>0.000000</td>\n",
       "      <td>0.000000</td>\n",
       "      <td>0.000000</td>\n",
       "      <td>7.000000</td>\n",
       "      <td>184.137500</td>\n",
       "      <td>0.000000</td>\n",
       "      <td>0.014286</td>\n",
       "      <td>0.000000</td>\n",
       "      <td>0.000000</td>\n",
       "      <td>2.000000</td>\n",
       "      <td>2.000000</td>\n",
       "      <td>1.000000</td>\n",
       "      <td>2.000000</td>\n",
       "    </tr>\n",
       "    <tr>\n",
       "      <th>50%</th>\n",
       "      <td>1.000000</td>\n",
       "      <td>7.500000</td>\n",
       "      <td>0.000000</td>\n",
       "      <td>0.000000</td>\n",
       "      <td>18.000000</td>\n",
       "      <td>598.936905</td>\n",
       "      <td>0.003112</td>\n",
       "      <td>0.025156</td>\n",
       "      <td>0.000000</td>\n",
       "      <td>0.000000</td>\n",
       "      <td>2.000000</td>\n",
       "      <td>2.000000</td>\n",
       "      <td>3.000000</td>\n",
       "      <td>2.000000</td>\n",
       "    </tr>\n",
       "    <tr>\n",
       "      <th>75%</th>\n",
       "      <td>4.000000</td>\n",
       "      <td>93.256250</td>\n",
       "      <td>0.000000</td>\n",
       "      <td>0.000000</td>\n",
       "      <td>38.000000</td>\n",
       "      <td>1464.157213</td>\n",
       "      <td>0.016813</td>\n",
       "      <td>0.050000</td>\n",
       "      <td>0.000000</td>\n",
       "      <td>0.000000</td>\n",
       "      <td>3.000000</td>\n",
       "      <td>2.000000</td>\n",
       "      <td>4.000000</td>\n",
       "      <td>4.000000</td>\n",
       "    </tr>\n",
       "    <tr>\n",
       "      <th>max</th>\n",
       "      <td>27.000000</td>\n",
       "      <td>3398.750000</td>\n",
       "      <td>24.000000</td>\n",
       "      <td>2549.375000</td>\n",
       "      <td>705.000000</td>\n",
       "      <td>63973.522230</td>\n",
       "      <td>0.200000</td>\n",
       "      <td>0.200000</td>\n",
       "      <td>361.763742</td>\n",
       "      <td>1.000000</td>\n",
       "      <td>8.000000</td>\n",
       "      <td>13.000000</td>\n",
       "      <td>9.000000</td>\n",
       "      <td>20.000000</td>\n",
       "    </tr>\n",
       "  </tbody>\n",
       "</table>\n",
       "</div>"
      ],
      "text/plain": [
       "       Administrative  Administrative_Duration  Informational  \\\n",
       "count    12330.000000             12330.000000   12330.000000   \n",
       "mean         2.315166                80.818611       0.503569   \n",
       "std          3.321784               176.779107       1.270156   \n",
       "min          0.000000                 0.000000       0.000000   \n",
       "25%          0.000000                 0.000000       0.000000   \n",
       "50%          1.000000                 7.500000       0.000000   \n",
       "75%          4.000000                93.256250       0.000000   \n",
       "max         27.000000              3398.750000      24.000000   \n",
       "\n",
       "       Informational_Duration  ProductRelated  ProductRelated_Duration  \\\n",
       "count            12330.000000    12330.000000             12330.000000   \n",
       "mean                34.472398       31.731468              1194.746220   \n",
       "std                140.749294       44.475503              1913.669288   \n",
       "min                  0.000000        0.000000                 0.000000   \n",
       "25%                  0.000000        7.000000               184.137500   \n",
       "50%                  0.000000       18.000000               598.936905   \n",
       "75%                  0.000000       38.000000              1464.157213   \n",
       "max               2549.375000      705.000000             63973.522230   \n",
       "\n",
       "        BounceRates     ExitRates    PageValues    SpecialDay  \\\n",
       "count  12330.000000  12330.000000  12330.000000  12330.000000   \n",
       "mean       0.022191      0.043073      5.889258      0.061427   \n",
       "std        0.048488      0.048597     18.568437      0.198917   \n",
       "min        0.000000      0.000000      0.000000      0.000000   \n",
       "25%        0.000000      0.014286      0.000000      0.000000   \n",
       "50%        0.003112      0.025156      0.000000      0.000000   \n",
       "75%        0.016813      0.050000      0.000000      0.000000   \n",
       "max        0.200000      0.200000    361.763742      1.000000   \n",
       "\n",
       "       OperatingSystems       Browser        Region   TrafficType  \n",
       "count      12330.000000  12330.000000  12330.000000  12330.000000  \n",
       "mean           2.124006      2.357097      3.147364      4.069586  \n",
       "std            0.911325      1.717277      2.401591      4.025169  \n",
       "min            1.000000      1.000000      1.000000      1.000000  \n",
       "25%            2.000000      2.000000      1.000000      2.000000  \n",
       "50%            2.000000      2.000000      3.000000      2.000000  \n",
       "75%            3.000000      2.000000      4.000000      4.000000  \n",
       "max            8.000000     13.000000      9.000000     20.000000  "
      ]
     },
     "execution_count": 4,
     "metadata": {},
     "output_type": "execute_result"
    }
   ],
   "source": [
    "dataset.describe()"
   ]
  },
  {
   "cell_type": "code",
   "execution_count": 5,
   "metadata": {},
   "outputs": [
    {
     "name": "stderr",
     "output_type": "stream",
     "text": [
      "C:\\Users\\hp\\anaconda3\\lib\\site-packages\\seaborn\\distributions.py:369: UserWarning: Default bandwidth for data is 0; skipping density estimation.\n",
      "  warnings.warn(msg, UserWarning)\n",
      "C:\\Users\\hp\\anaconda3\\lib\\site-packages\\seaborn\\distributions.py:369: UserWarning: Default bandwidth for data is 0; skipping density estimation.\n",
      "  warnings.warn(msg, UserWarning)\n"
     ]
    },
    {
     "data": {
      "text/plain": [
       "<matplotlib.axes._subplots.AxesSubplot at 0x187c691e610>"
      ]
     },
     "execution_count": 5,
     "metadata": {},
     "output_type": "execute_result"
    },
    {
     "data": {
      "image/png": "[encoded data removed]",
      "text/plain": [
       "<Figure size 432x288 with 1 Axes>"
      ]
     },
     "metadata": {
      "needs_background": "light"
     },
     "output_type": "display_data"
    },
    {
     "data": {
      "image/png": "[encoded data removed]",
      "text/plain": [
       "<Figure size 432x288 with 1 Axes>"
      ]
     },
     "metadata": {
      "needs_background": "light"
     },
     "output_type": "display_data"
    },
    {
     "data": {
      "image/png": "[encoded data removed]",
      "text/plain": [
       "<Figure size 432x288 with 1 Axes>"
      ]
     },
     "metadata": {
      "needs_background": "light"
     },
     "output_type": "display_data"
    },
    {
     "data": {
      "image/png": "[encoded data removed]",
      "text/plain": [
       "<Figure size 432x288 with 1 Axes>"
      ]
     },
     "metadata": {
      "needs_background": "light"
     },
     "output_type": "display_data"
    },
    {
     "data": {
      "image/png": "[encoded data removed]",
      "text/plain": [
       "<Figure size 432x288 with 1 Axes>"
      ]
     },
     "metadata": {
      "needs_background": "light"
     },
     "output_type": "display_data"
    },
    {
     "data": {
      "image/png": "[encoded data removed]",
      "text/plain": [
       "<Figure size 432x288 with 1 Axes>"
      ]
     },
     "metadata": {
      "needs_background": "light"
     },
     "output_type": "display_data"
    },
    {
     "data": {
      "image/png": "[encoded data removed]",
      "text/plain": [
       "<Figure size 432x288 with 1 Axes>"
      ]
     },
     "metadata": {
      "needs_background": "light"
     },
     "output_type": "display_data"
    }
   ],
   "source": [
    "plt.figure()\n",
    "sns.distplot(dataset.Administrative)\n",
    "plt.figure()\n",
    "sns.distplot(dataset.Administrative_Duration)\n",
    "plt.figure()\n",
    "sns.distplot(dataset.Informational)\n",
    "plt.figure()\n",
    "sns.distplot(dataset.Informational_Duration)\n",
    "plt.figure()\n",
    "sns.distplot(dataset.ProductRelated)\n",
    "plt.figure()\n",
    "sns.distplot(dataset.ProductRelated_Duration)\n",
    "plt.figure()\n",
    "sns.distplot(dataset.BounceRates)"
   ]
  },
  {
   "cell_type": "code",
   "execution_count": 6,
   "metadata": {},
   "outputs": [
    {
     "name": "stderr",
     "output_type": "stream",
     "text": [
      "C:\\Users\\hp\\anaconda3\\lib\\site-packages\\seaborn\\distributions.py:369: UserWarning: Default bandwidth for data is 0; skipping density estimation.\n",
      "  warnings.warn(msg, UserWarning)\n",
      "C:\\Users\\hp\\anaconda3\\lib\\site-packages\\seaborn\\distributions.py:369: UserWarning: Default bandwidth for data is 0; skipping density estimation.\n",
      "  warnings.warn(msg, UserWarning)\n"
     ]
    },
    {
     "data": {
      "text/plain": [
       "<matplotlib.axes._subplots.AxesSubplot at 0x187c69fa490>"
      ]
     },
     "execution_count": 6,
     "metadata": {},
     "output_type": "execute_result"
    },
    {
     "data": {
      "image/png": "[encoded data removed]",
      "text/plain": [
       "<Figure size 432x288 with 1 Axes>"
      ]
     },
     "metadata": {
      "needs_background": "light"
     },
     "output_type": "display_data"
    },
    {
     "data": {
      "image/png": "[encoded data removed]",
      "text/plain": [
       "<Figure size 432x288 with 1 Axes>"
      ]
     },
     "metadata": {
      "needs_background": "light"
     },
     "output_type": "display_data"
    },
    {
     "data": {
      "image/png": "[encoded data removed]",
      "text/plain": [
       "<Figure size 432x288 with 1 Axes>"
      ]
     },
     "metadata": {
      "needs_background": "light"
     },
     "output_type": "display_data"
    },
    {
     "data": {
      "image/png": "[encoded data removed]",
      "text/plain": [
       "<Figure size 432x288 with 1 Axes>"
      ]
     },
     "metadata": {
      "needs_background": "light"
     },
     "output_type": "display_data"
    },
    {
     "data": {
      "image/png": "[encoded data removed]",
      "text/plain": [
       "<Figure size 432x288 with 1 Axes>"
      ]
     },
     "metadata": {
      "needs_background": "light"
     },
     "output_type": "display_data"
    },
    {
     "data": {
      "image/png": "[encoded data removed]",
      "text/plain": [
       "<Figure size 432x288 with 1 Axes>"
      ]
     },
     "metadata": {
      "needs_background": "light"
     },
     "output_type": "display_data"
    }
   ],
   "source": [
    "plt.figure()\n",
    "sns.distplot(dataset.ExitRates)\n",
    "plt.figure()\n",
    "sns.distplot(dataset.SpecialDay)\n",
    "plt.figure()\n",
    "sns.distplot(dataset.OperatingSystems)\n",
    "plt.figure()\n",
    "sns.distplot(dataset.Browser)\n",
    "plt.figure()\n",
    "sns.distplot(dataset.Region)\n",
    "plt.figure()\n",
    "sns.distplot(dataset.TrafficType)"
   ]
  },
  {
   "cell_type": "code",
   "execution_count": 7,
   "metadata": {},
   "outputs": [
    {
     "data": {
      "text/plain": [
       "<matplotlib.axes._subplots.AxesSubplot at 0x187c5efeac0>"
      ]
     },
     "execution_count": 7,
     "metadata": {},
     "output_type": "execute_result"
    },
    {
     "data": {
      "image/png": "[encoded data removed]",
      "text/plain": [
       "<Figure size 432x288 with 1 Axes>"
      ]
     },
     "metadata": {
      "needs_background": "light"
     },
     "output_type": "display_data"
    },
    {
     "data": {
      "image/png": "[encoded data removed]",
      "text/plain": [
       "<Figure size 432x288 with 1 Axes>"
      ]
     },
     "metadata": {
      "needs_background": "light"
     },
     "output_type": "display_data"
    }
   ],
   "source": [
    "plt.figure()\n",
    "sns.countplot(x=\"Month\",hue=\"Revenue\",data=dataset)\n",
    "plt.figure()\n",
    "sns.countplot(x=\"Month\",hue=\"Weekend\",data=dataset)"
   ]
  },
  {
   "cell_type": "code",
   "execution_count": 8,
   "metadata": {},
   "outputs": [],
   "source": [
    "#normalizsing dataframe"
   ]
  },
  {
   "cell_type": "code",
   "execution_count": 9,
   "metadata": {},
   "outputs": [],
   "source": [
    "def normalize(a):\n",
    "    a_min=min(a)\n",
    "    a_max=max(a)\n",
    "    range=a_max-a_min\n",
    "    return((a-a_min)/range)\n",
    "a=normalize(dataset[\"Administrative\"])\n",
    "b=normalize(dataset[\"Administrative_Duration\"])\n",
    "c=normalize(dataset[\"Informational\"])\n",
    "d=normalize(dataset[\"Informational_Duration\"])\n",
    "e=normalize(dataset[\"ProductRelated\"])\n",
    "f=normalize(dataset[\"ProductRelated_Duration\"])\n",
    "g=normalize(dataset[\"BounceRates\"])\n",
    "h=normalize(dataset[\"ExitRates\"])\n",
    "i=normalize(dataset[\"PageValues\"])\n",
    "j=normalize(dataset[\"SpecialDay\"])\n",
    "k=normalize(dataset[\"OperatingSystems\"])\n",
    "l=normalize(dataset[\"Browser\"])\n",
    "m=normalize(dataset[\"Region\"])\n",
    "n=normalize(dataset[\"TrafficType\"])"
   ]
  },
  {
   "cell_type": "code",
   "execution_count": 10,
   "metadata": {},
   "outputs": [
    {
     "data": {
      "text/html": [
       "<div>\n",
       "<style scoped>\n",
       "    .dataframe tbody tr th:only-of-type {\n",
       "        vertical-align: middle;\n",
       "    }\n",
       "\n",
       "    .dataframe tbody tr th {\n",
       "        vertical-align: top;\n",
       "    }\n",
       "\n",
       "    .dataframe thead th {\n",
       "        text-align: right;\n",
       "    }\n",
       "</style>\n",
       "<table border=\"1\" class=\"dataframe\">\n",
       "  <thead>\n",
       "    <tr style=\"text-align: right;\">\n",
       "      <th></th>\n",
       "      <th>Administrative</th>\n",
       "      <th>d</th>\n",
       "      <th>g</th>\n",
       "      <th>i</th>\n",
       "      <th>h</th>\n",
       "      <th>k</th>\n",
       "      <th>m</th>\n",
       "      <th>n</th>\n",
       "    </tr>\n",
       "  </thead>\n",
       "  <tbody>\n",
       "    <tr>\n",
       "      <th>0</th>\n",
       "      <td>0.000000</td>\n",
       "      <td>0.0</td>\n",
       "      <td>1.000000</td>\n",
       "      <td>0.000000</td>\n",
       "      <td>1.000000</td>\n",
       "      <td>0.000000</td>\n",
       "      <td>0.000</td>\n",
       "      <td>0.000000</td>\n",
       "    </tr>\n",
       "    <tr>\n",
       "      <th>1</th>\n",
       "      <td>0.000000</td>\n",
       "      <td>0.0</td>\n",
       "      <td>0.000000</td>\n",
       "      <td>0.000000</td>\n",
       "      <td>0.500000</td>\n",
       "      <td>0.142857</td>\n",
       "      <td>0.000</td>\n",
       "      <td>0.052632</td>\n",
       "    </tr>\n",
       "    <tr>\n",
       "      <th>2</th>\n",
       "      <td>0.000000</td>\n",
       "      <td>0.0</td>\n",
       "      <td>1.000000</td>\n",
       "      <td>0.000000</td>\n",
       "      <td>1.000000</td>\n",
       "      <td>0.428571</td>\n",
       "      <td>1.000</td>\n",
       "      <td>0.105263</td>\n",
       "    </tr>\n",
       "    <tr>\n",
       "      <th>3</th>\n",
       "      <td>0.000000</td>\n",
       "      <td>0.0</td>\n",
       "      <td>0.250000</td>\n",
       "      <td>0.000000</td>\n",
       "      <td>0.700000</td>\n",
       "      <td>0.285714</td>\n",
       "      <td>0.125</td>\n",
       "      <td>0.157895</td>\n",
       "    </tr>\n",
       "    <tr>\n",
       "      <th>4</th>\n",
       "      <td>0.000000</td>\n",
       "      <td>0.0</td>\n",
       "      <td>0.100000</td>\n",
       "      <td>0.000000</td>\n",
       "      <td>0.250000</td>\n",
       "      <td>0.285714</td>\n",
       "      <td>0.000</td>\n",
       "      <td>0.157895</td>\n",
       "    </tr>\n",
       "    <tr>\n",
       "      <th>...</th>\n",
       "      <td>...</td>\n",
       "      <td>...</td>\n",
       "      <td>...</td>\n",
       "      <td>...</td>\n",
       "      <td>...</td>\n",
       "      <td>...</td>\n",
       "      <td>...</td>\n",
       "      <td>...</td>\n",
       "    </tr>\n",
       "    <tr>\n",
       "      <th>12325</th>\n",
       "      <td>0.111111</td>\n",
       "      <td>0.0</td>\n",
       "      <td>0.035714</td>\n",
       "      <td>0.033839</td>\n",
       "      <td>0.145153</td>\n",
       "      <td>0.428571</td>\n",
       "      <td>0.000</td>\n",
       "      <td>0.000000</td>\n",
       "    </tr>\n",
       "    <tr>\n",
       "      <th>12326</th>\n",
       "      <td>0.000000</td>\n",
       "      <td>0.0</td>\n",
       "      <td>0.000000</td>\n",
       "      <td>0.000000</td>\n",
       "      <td>0.106667</td>\n",
       "      <td>0.285714</td>\n",
       "      <td>0.000</td>\n",
       "      <td>0.368421</td>\n",
       "    </tr>\n",
       "    <tr>\n",
       "      <th>12327</th>\n",
       "      <td>0.000000</td>\n",
       "      <td>0.0</td>\n",
       "      <td>0.416667</td>\n",
       "      <td>0.000000</td>\n",
       "      <td>0.433333</td>\n",
       "      <td>0.285714</td>\n",
       "      <td>0.000</td>\n",
       "      <td>0.631579</td>\n",
       "    </tr>\n",
       "    <tr>\n",
       "      <th>12328</th>\n",
       "      <td>0.148148</td>\n",
       "      <td>0.0</td>\n",
       "      <td>0.000000</td>\n",
       "      <td>0.000000</td>\n",
       "      <td>0.105263</td>\n",
       "      <td>0.142857</td>\n",
       "      <td>0.250</td>\n",
       "      <td>0.526316</td>\n",
       "    </tr>\n",
       "    <tr>\n",
       "      <th>12329</th>\n",
       "      <td>0.000000</td>\n",
       "      <td>0.0</td>\n",
       "      <td>0.000000</td>\n",
       "      <td>0.000000</td>\n",
       "      <td>0.333333</td>\n",
       "      <td>0.285714</td>\n",
       "      <td>0.000</td>\n",
       "      <td>0.052632</td>\n",
       "    </tr>\n",
       "  </tbody>\n",
       "</table>\n",
       "<p>12330 rows × 8 columns</p>\n",
       "</div>"
      ],
      "text/plain": [
       "       Administrative    d         g         i         h         k      m  \\\n",
       "0            0.000000  0.0  1.000000  0.000000  1.000000  0.000000  0.000   \n",
       "1            0.000000  0.0  0.000000  0.000000  0.500000  0.142857  0.000   \n",
       "2            0.000000  0.0  1.000000  0.000000  1.000000  0.428571  1.000   \n",
       "3            0.000000  0.0  0.250000  0.000000  0.700000  0.285714  0.125   \n",
       "4            0.000000  0.0  0.100000  0.000000  0.250000  0.285714  0.000   \n",
       "...               ...  ...       ...       ...       ...       ...    ...   \n",
       "12325        0.111111  0.0  0.035714  0.033839  0.145153  0.428571  0.000   \n",
       "12326        0.000000  0.0  0.000000  0.000000  0.106667  0.285714  0.000   \n",
       "12327        0.000000  0.0  0.416667  0.000000  0.433333  0.285714  0.000   \n",
       "12328        0.148148  0.0  0.000000  0.000000  0.105263  0.142857  0.250   \n",
       "12329        0.000000  0.0  0.000000  0.000000  0.333333  0.285714  0.000   \n",
       "\n",
       "              n  \n",
       "0      0.000000  \n",
       "1      0.052632  \n",
       "2      0.105263  \n",
       "3      0.157895  \n",
       "4      0.157895  \n",
       "...         ...  \n",
       "12325  0.000000  \n",
       "12326  0.368421  \n",
       "12327  0.631579  \n",
       "12328  0.526316  \n",
       "12329  0.052632  \n",
       "\n",
       "[12330 rows x 8 columns]"
      ]
     },
     "execution_count": 10,
     "metadata": {},
     "output_type": "execute_result"
    }
   ],
   "source": [
    "df_n=pd.DataFrame(a)\n",
    "df_n\n",
    "#adding columns   #for adding in the location\n",
    "df_n.loc[:,\"d\"]=d\n",
    "df_n.loc[:,\"g\"]=g\n",
    "df_n.loc[:,\"i\"]=i\n",
    "df_n.loc[:,\"h\"]=h\n",
    "df_n.loc[:,\"k\"]=k\n",
    "df_n.loc[:,\"m\"]=m\n",
    "df_n.loc[:,\"n\"]=n\n",
    "df_n"
   ]
  },
  {
   "cell_type": "code",
   "execution_count": 11,
   "metadata": {},
   "outputs": [
    {
     "name": "stdout",
     "output_type": "stream",
     "text": [
      "0       -0.085754\n",
      "1       -0.085754\n",
      "2       -0.085754\n",
      "3       -0.085754\n",
      "4       -0.085754\n",
      "           ...   \n",
      "12325    0.025357\n",
      "12326   -0.085754\n",
      "12327   -0.085754\n",
      "12328    0.062394\n",
      "12329   -0.085754\n",
      "Name: Administrative, Length: 12330, dtype: float64 0       -0.013523\n",
      "1       -0.013523\n",
      "2       -0.013523\n",
      "3       -0.013523\n",
      "4       -0.013523\n",
      "           ...   \n",
      "12325   -0.013523\n",
      "12326   -0.013523\n",
      "12327   -0.013523\n",
      "12328   -0.013523\n",
      "12329   -0.013523\n",
      "Name: d, Length: 12330, dtype: float64 0        0.889034\n",
      "1       -0.110966\n",
      "2        0.889034\n",
      "3        0.139034\n",
      "4       -0.010966\n",
      "           ...   \n",
      "12325   -0.075252\n",
      "12326   -0.110966\n",
      "12327    0.305701\n",
      "12328   -0.110966\n",
      "12329   -0.110966\n",
      "Name: g, Length: 12330, dtype: float64 0       -0.016281\n",
      "1       -0.016281\n",
      "2       -0.016281\n",
      "3       -0.016281\n",
      "4       -0.016281\n",
      "           ...   \n",
      "12325    0.017558\n",
      "12326   -0.016281\n",
      "12327   -0.016281\n",
      "12328   -0.016281\n",
      "12329   -0.016281\n",
      "Name: i, Length: 12330, dtype: float64 0        0.784619\n",
      "1        0.284619\n",
      "2        0.784619\n",
      "3        0.484619\n",
      "4        0.034619\n",
      "           ...   \n",
      "12325   -0.070228\n",
      "12326   -0.108715\n",
      "12327    0.217952\n",
      "12328   -0.110118\n",
      "12329    0.117952\n",
      "Name: h, Length: 12330, dtype: float64 0       -0.160585\n",
      "1       -0.017728\n",
      "2        0.267986\n",
      "3        0.125129\n",
      "4        0.125129\n",
      "           ...   \n",
      "12325    0.267986\n",
      "12326    0.125129\n",
      "12327    0.125129\n",
      "12328   -0.017728\n",
      "12329    0.125129\n",
      "Name: k, Length: 12330, dtype: float64 0       -0.268442\n",
      "1       -0.268442\n",
      "2        0.731558\n",
      "3       -0.143442\n",
      "4       -0.268442\n",
      "           ...   \n",
      "12325   -0.268442\n",
      "12326   -0.268442\n",
      "12327   -0.268442\n",
      "12328   -0.018442\n",
      "12329   -0.268442\n",
      "Name: m, Length: 12330, dtype: float64 0       -0.161570\n",
      "1       -0.108939\n",
      "2       -0.056307\n",
      "3       -0.003676\n",
      "4       -0.003676\n",
      "           ...   \n",
      "12325   -0.161570\n",
      "12326    0.206851\n",
      "12327    0.470009\n",
      "12328    0.364746\n",
      "12329   -0.108939\n",
      "Name: n, Length: 12330, dtype: float64\n"
     ]
    }
   ],
   "source": [
    "def mean(b):\n",
    "    length=len(b)\n",
    "    su=sum(b)\n",
    "    return (su/(length-1))\n",
    "mean_Admin=mean(df_n[\"Administrative\"])\n",
    "mean_d=mean(df_n[\"d\"])\n",
    "mean_g=mean(df_n[\"g\"])\n",
    "mean_i=mean(df_n[\"i\"])\n",
    "mean_h=mean(df_n[\"h\"])\n",
    "mean_k=mean(df_n[\"k\"])\n",
    "mean_m=mean(df_n[\"m\"])\n",
    "mean_n=mean(df_n[\"n\"])\n",
    "mean_vec=[mean_Admin,mean_d,mean_g,mean_i,mean_h,mean_k,mean_m,mean_n]\n",
    "\n",
    "\n",
    "\n",
    "cen_admin=df_n[\"Administrative\"]-mean_vec[0]\n",
    "cen_d=df_n[\"d\"]-mean_vec[1]\n",
    "cen_g=df_n[\"g\"]-mean_vec[2]\n",
    "cen_i=df_n[\"i\"]-mean_vec[3]\n",
    "cen_h=df_n[\"h\"]-mean_vec[4]\n",
    "cen_k=df_n[\"k\"]-mean_vec[5]\n",
    "cen_m=df_n[\"m\"]-mean_vec[6]\n",
    "cen_n=df_n[\"n\"]-mean_vec[7]\n",
    "print(cen_admin,cen_d,cen_g,cen_i,cen_h,cen_k,cen_m,cen_n)"
   ]
  },
  {
   "cell_type": "code",
   "execution_count": 12,
   "metadata": {},
   "outputs": [
    {
     "name": "stdout",
     "output_type": "stream",
     "text": [
      "[[ 1.51361450e-02  1.73781047e-03 -6.66828269e-03  6.25097054e-04\n",
      "  -9.46092010e-03 -1.01661202e-04 -2.02645033e-04 -8.74720496e-04]\n",
      " [ 1.73781047e-03  3.04807050e-03 -9.91384499e-04  8.74522586e-05\n",
      "  -1.41226412e-03 -6.88482773e-05 -4.49880561e-04 -2.88601481e-04]\n",
      " [-6.66828269e-03 -9.91384499e-04  5.87779339e-02 -1.48563100e-03\n",
      "   5.37842833e-02  7.51938229e-04 -4.72007967e-04  4.02086289e-03]\n",
      " [ 6.25097054e-04  8.74522586e-05 -1.48563100e-03  2.63451457e-03\n",
      "  -2.17629058e-03  1.23675525e-04  1.74351436e-04  1.36266979e-04]\n",
      " [-9.46092010e-03 -1.41226412e-03  5.37842833e-02 -2.17629058e-03\n",
      "   5.90405941e-02  4.60800525e-04 -6.49704613e-04  4.04686473e-03]\n",
      " [-1.01661202e-04 -6.88482773e-05  7.51938229e-04  1.23675525e-04\n",
      "   4.60800525e-04  1.69492439e-02  3.00059153e-03  5.21699417e-03]\n",
      " [-2.02645033e-04 -4.49880561e-04 -4.72007967e-04  1.74351436e-04\n",
      "  -6.49704613e-04  3.00059153e-03  9.01193828e-02  3.02216538e-03]\n",
      " [-2.88601481e-04  4.02086289e-03  1.36266979e-04  4.04686473e-03\n",
      "   5.21699417e-03  3.02216538e-03  4.48808500e-02  4.48808500e-02]]\n"
     ]
    }
   ],
   "source": [
    "v11=(cen_admin).dot(cen_admin)/(len(cen_admin)-1)\n",
    "v12=(cen_admin).dot(cen_d)/(len(cen_d)-1)    #can be done with loop also, ##large BAM (ASSIGNMENT DEADLINE IS NEAR)\n",
    "v13=(cen_admin).dot(cen_g)/(len(cen_g)-1)\n",
    "v14=(cen_admin).dot(cen_i)/(len(cen_i)-1)\n",
    "v15=(cen_admin).dot(cen_h)/(len(cen_h)-1)\n",
    "v16=(cen_admin).dot(cen_k)/(len(cen_k)-1)\n",
    "v17=(cen_admin).dot(cen_m)/(len(cen_m)-1)\n",
    "v18=(cen_admin).dot(cen_n)/(len(cen_n)-1)\n",
    "v21=(cen_d).dot(cen_admin)/(len(cen_admin)-1)\n",
    "v22=(cen_d).dot(cen_d)/(len(cen_d)-1)    #can be done with loop also, ##large BAM (ASSIGNMENT DEADLINE IS NEAR)\n",
    "v23=(cen_d).dot(cen_g)/(len(cen_g)-1)\n",
    "v24=(cen_d).dot(cen_i)/(len(cen_i)-1)\n",
    "v25=(cen_d).dot(cen_h)/(len(cen_h)-1)\n",
    "v26=(cen_d).dot(cen_k)/(len(cen_k)-1)\n",
    "v27=(cen_d).dot(cen_m)/(len(cen_m)-1)\n",
    "v28=(cen_d).dot(cen_n)/(len(cen_n)-1)\n",
    "v31=(cen_g).dot(cen_admin)/(len(cen_admin)-1)\n",
    "v32=(cen_g).dot(cen_d)/(len(cen_d)-1)    #can be done with loop also, ##large BAM (ASSIGNMENT DEADLINE IS NEAR)\n",
    "v33=(cen_g).dot(cen_g)/(len(cen_g)-1)\n",
    "v34=(cen_g).dot(cen_i)/(len(cen_i)-1)\n",
    "v35=(cen_g).dot(cen_h)/(len(cen_h)-1)\n",
    "v36=(cen_g).dot(cen_k)/(len(cen_k)-1)\n",
    "v37=(cen_g).dot(cen_m)/(len(cen_m)-1)\n",
    "v38=(cen_g).dot(cen_n)/(len(cen_n)-1)\n",
    "v41=(cen_i).dot(cen_admin)/(len(cen_admin)-1)\n",
    "v42=(cen_i).dot(cen_d)/(len(cen_d)-1)    #can be done with loop also, ##large BAM (ASSIGNMENT DEADLINE IS NEAR)\n",
    "v43=(cen_i).dot(cen_g)/(len(cen_g)-1)\n",
    "v44=(cen_i).dot(cen_i)/(len(cen_i)-1)\n",
    "v45=(cen_i).dot(cen_h)/(len(cen_h)-1)\n",
    "v46=(cen_i).dot(cen_k)/(len(cen_k)-1)\n",
    "v47=(cen_i).dot(cen_m)/(len(cen_m)-1)\n",
    "v48=(cen_i).dot(cen_n)/(len(cen_n)-1)\n",
    "v51=(cen_h).dot(cen_admin)/(len(cen_admin)-1)\n",
    "v52=(cen_h).dot(cen_d)/(len(cen_d)-1)    #can be done with loop also, ##large BAM (ASSIGNMENT DEADLINE IS NEAR)\n",
    "v53=(cen_h).dot(cen_g)/(len(cen_g)-1)\n",
    "v54=(cen_h).dot(cen_i)/(len(cen_i)-1)\n",
    "v55=(cen_h).dot(cen_h)/(len(cen_h)-1)\n",
    "v56=(cen_h).dot(cen_k)/(len(cen_k)-1)\n",
    "v57=(cen_h).dot(cen_m)/(len(cen_m)-1)\n",
    "v58=(cen_h).dot(cen_n)/(len(cen_n)-1)\n",
    "v61=(cen_k).dot(cen_admin)/(len(cen_admin)-1)\n",
    "v62=(cen_k).dot(cen_d)/(len(cen_d)-1)    #can be done with loop also, ##large BAM (ASSIGNMENT DEADLINE IS NEAR)\n",
    "v63=(cen_k).dot(cen_g)/(len(cen_g)-1)\n",
    "v64=(cen_k).dot(cen_i)/(len(cen_i)-1)\n",
    "v65=(cen_k).dot(cen_h)/(len(cen_h)-1)\n",
    "v66=(cen_k).dot(cen_k)/(len(cen_k)-1)\n",
    "v67=(cen_k).dot(cen_m)/(len(cen_m)-1)\n",
    "v68=(cen_k).dot(cen_n)/(len(cen_n)-1)\n",
    "v71=(cen_m).dot(cen_admin)/(len(cen_admin)-1)\n",
    "v72=(cen_m).dot(cen_d)/(len(cen_d)-1)    #can be done with loop also, ##large BAM (ASSIGNMENT DEADLINE IS NEAR)\n",
    "v73=(cen_m).dot(cen_g)/(len(cen_g)-1)\n",
    "v74=(cen_m).dot(cen_i)/(len(cen_i)-1)\n",
    "v75=(cen_m).dot(cen_h)/(len(cen_h)-1)\n",
    "v76=(cen_m).dot(cen_k)/(len(cen_k)-1)\n",
    "v77=(cen_m).dot(cen_m)/(len(cen_m)-1)\n",
    "v78=(cen_m).dot(cen_n)/(len(cen_n)-1)\n",
    "v81=(cen_n).dot(cen_d)/(len(cen_d)-1)    #can be done with loop also, ##large BAM (ASSIGNMENT DEADLINE IS NEAR)\n",
    "v82=(cen_n).dot(cen_g)/(len(cen_g)-1)\n",
    "v83=(cen_n).dot(cen_i)/(len(cen_i)-1)\n",
    "v84=(cen_n).dot(cen_h)/(len(cen_h)-1)\n",
    "v85=(cen_n).dot(cen_k)/(len(cen_k)-1)\n",
    "v86=(cen_n).dot(cen_m)/(len(cen_m)-1)\n",
    "v87=(cen_n).dot(cen_n)/(len(cen_n)-1)\n",
    "v88=(cen_n).dot(cen_n)/(len(cen_n)-1)\n",
    "\n",
    "cov_mat=[[v11,v12,v13,v14,v15,v16,v17,v18],[v21,v22,v23,v24,v25,v26,v27,v28],[v31,v32,v33,v34,v35,v36,v37,v38],[v41,v42,v43,v44,v45,v46,v47,v48],[v51,v52,v53,v54,v55,v56,v57,v58],[v61,v62,v63,v64,v65,v66,v67,v68],[v71,v72,v73,v74,v75,v76,v77,v78],[v81,v82,v83,v84,v85,v86,v87,v88]]\n",
    "cov_mat=np.array(cov_mat)\n",
    "print(cov_mat)\n",
    "\n"
   ]
  },
  {
   "cell_type": "code",
   "execution_count": 13,
   "metadata": {},
   "outputs": [
    {
     "name": "stdout",
     "output_type": "stream",
     "text": [
      "[0.1143425  0.09335744 0.04176613 0.01446426 0.01660803 0.0047763\n",
      " 0.00281398 0.00245808]\n",
      "[[-1.14824980e-01  1.40278896e-02  2.53564381e-03 -9.61194139e-01\n",
      "   2.44196264e-02  2.05799426e-01  1.37978639e-01 -1.15720391e-03]\n",
      " [-1.69651754e-02 -2.49437755e-03 -3.05437932e-03 -1.34841790e-01\n",
      "   1.25786146e-03  2.30739633e-02 -9.81382826e-01  2.75050335e-02]\n",
      " [ 6.98956371e-01 -1.12266909e-01 -5.66039460e-02 -2.28787417e-01\n",
      "   1.32919313e-02 -6.61849663e-01 -5.92972254e-03  1.06462555e-01]\n",
      " [-2.36479423e-02  7.17349860e-03  9.07323133e-03 -3.49771941e-02\n",
      "   1.04420598e-02 -1.83281847e-01  8.30479950e-02 -9.76255213e-01]\n",
      " [ 7.03817828e-01 -1.14597339e-01 -5.78263448e-02  6.50891447e-02\n",
      "  -1.81662117e-02  6.90532163e-01  7.15780193e-04 -1.45989993e-01]\n",
      " [ 9.97847568e-03  7.20836696e-02  1.93220635e-01  5.32410722e-04\n",
      "   9.97710524e-01  5.08890299e-02 -3.85017536e-02 -3.23878664e-02]\n",
      " [-2.56369808e-02  7.26163504e-01 -7.43056825e-02 -4.58193510e-03\n",
      "  -3.89860072e-02  3.54407914e-03 -6.95975257e-03 -1.16985241e-03]\n",
      " [ 3.62189666e-02  6.64454392e-01  9.74935114e-01  9.92763662e-03\n",
      "  -4.28972831e-02 -7.77177850e-02  9.68822896e-02  1.11670037e-01]]\n",
      "[0, 1, 2, 4, 3, 5, 6, 7]\n",
      "[[-0.11482498  0.01402789  0.00253564 -0.96119414  0.02441963  0.20579943\n",
      "   0.13797864 -0.0011572 ]\n",
      " [-0.01696518 -0.00249438 -0.00305438 -0.13484179  0.00125786  0.02307396\n",
      "  -0.98138283  0.02750503]\n",
      " [ 0.69895637 -0.11226691 -0.05660395 -0.22878742  0.01329193 -0.66184966\n",
      "  -0.00592972  0.10646256]]\n"
     ]
    }
   ],
   "source": [
    "eigen_val,eigen_vec=np.linalg.eig(cov_mat)\n",
    "print(eigen_val)\n",
    "print(eigen_vec)\n",
    "\n",
    "index=[]\n",
    "ev_sort=np.sort(eigen_val)\n",
    "for i in range(0,len(eigen_val)):\n",
    "    for j in range(0,len(ev_sort)):\n",
    "        if eigen_val[i]== ev_sort[j]:\n",
    "            index.append(j)   #to print in decreasing order & (-1) for zero indexing\n",
    "acc_index=index\n",
    "dec_index=index[::-1]    #slicing operation \n",
    "print(dec_index)\n",
    "\n",
    "\n",
    "\n",
    "P=eigen_vec[dec_index[0]],eigen_vec[dec_index[1]],eigen_vec[dec_index[2]]\n",
    "P=np.asarray(P)\n",
    "print(P)"
   ]
  },
  {
   "cell_type": "code",
   "execution_count": 14,
   "metadata": {},
   "outputs": [
    {
     "name": "stdout",
     "output_type": "stream",
     "text": [
      "[[-0.11482498  0.01402789  0.00253564]\n",
      " [-0.96119414  0.02441963  0.20579943]\n",
      " [ 0.13797864 -0.0011572  -0.01696518]\n",
      " [-0.00249438 -0.00305438 -0.13484179]\n",
      " [ 0.00125786  0.02307396 -0.98138283]\n",
      " [ 0.02750503  0.69895637 -0.11226691]\n",
      " [-0.05660395 -0.22878742  0.01329193]\n",
      " [-0.66184966 -0.00592972  0.10646256]]\n"
     ]
    }
   ],
   "source": [
    "P=P.reshape(8,3)\n",
    "print(P)"
   ]
  },
  {
   "cell_type": "code",
   "execution_count": 15,
   "metadata": {},
   "outputs": [
    {
     "name": "stdout",
     "output_type": "stream",
     "text": [
      "The projected new feature space is [[ 0.1392365   0.02191676 -0.998348  ]\n",
      " [-0.03027597  0.1110758  -0.50112625]\n",
      " [ 0.02475204  0.09205789 -1.02196387]\n",
      " ...\n",
      " [-0.35211556  0.20547328 -0.39717147]\n",
      " [-0.37544233  0.04404019 -0.05961003]\n",
      " [-0.02655632  0.20708105 -0.35360058]]\n"
     ]
    },
    {
     "data": {
      "text/plain": [
       "(12330, 3)"
      ]
     },
     "execution_count": 15,
     "metadata": {},
     "output_type": "execute_result"
    }
   ],
   "source": [
    "feat=np.array(df_n)\n",
    "pca_out=np.matmul(feat,P)\n",
    "print(\"The projected new feature space is\",pca_out)\n",
    "pca_out.shape"
   ]
  },
  {
   "cell_type": "code",
   "execution_count": 16,
   "metadata": {},
   "outputs": [
    {
     "data": {
      "text/plain": [
       "(12330, 8)"
      ]
     },
     "execution_count": 16,
     "metadata": {},
     "output_type": "execute_result"
    }
   ],
   "source": [
    "df_n.shape"
   ]
  },
  {
   "cell_type": "code",
   "execution_count": null,
   "metadata": {},
   "outputs": [],
   "source": []
  },
  {
   "cell_type": "code",
   "execution_count": null,
   "metadata": {},
   "outputs": [],
   "source": []
  },
  {
   "cell_type": "code",
   "execution_count": null,
   "metadata": {},
   "outputs": [],
   "source": []
  },
  {
   "cell_type": "code",
   "execution_count": 17,
   "metadata": {},
   "outputs": [
    {
     "data": {
      "text/plain": [
       "<matplotlib.axes._subplots.AxesSubplot at 0x187c5ef97c0>"
      ]
     },
     "execution_count": 17,
     "metadata": {},
     "output_type": "execute_result"
    },
    {
     "data": {
      "image/png": "[encoded data removed]",
      "text/plain": [
       "<Figure size 432x288 with 1 Axes>"
      ]
     },
     "metadata": {
      "needs_background": "light"
     },
     "output_type": "display_data"
    }
   ],
   "source": [
    "plt.figure()\n",
    "sns.countplot(dataset['Revenue'])"
   ]
  },
  {
   "cell_type": "code",
   "execution_count": null,
   "metadata": {},
   "outputs": [],
   "source": []
  },
  {
   "cell_type": "code",
   "execution_count": 18,
   "metadata": {},
   "outputs": [
    {
     "data": {
      "text/plain": [
       "0        False\n",
       "1        False\n",
       "2        False\n",
       "3        False\n",
       "4        False\n",
       "         ...  \n",
       "12325    False\n",
       "12326    False\n",
       "12327    False\n",
       "12328    False\n",
       "12329    False\n",
       "Name: Revenue, Length: 12330, dtype: bool"
      ]
     },
     "execution_count": 18,
     "metadata": {},
     "output_type": "execute_result"
    }
   ],
   "source": [
    "X=pca_out\n",
    "Y=dataset[\"Revenue\"]\n",
    "Y"
   ]
  },
  {
   "cell_type": "code",
   "execution_count": 19,
   "metadata": {},
   "outputs": [],
   "source": [
    "#spliting my dataset in 80/20 ratio\n",
    "from sklearn.model_selection import train_test_split\n",
    "X_train,X_test,Y_train,Y_test=train_test_split(X,Y,test_size=0.20)"
   ]
  },
  {
   "cell_type": "code",
   "execution_count": 20,
   "metadata": {},
   "outputs": [
    {
     "data": {
      "text/plain": [
       "SVC(gamma='auto', kernel='linear')"
      ]
     },
     "execution_count": 20,
     "metadata": {},
     "output_type": "execute_result"
    }
   ],
   "source": [
    "#Training my SVM classifier\n",
    "from sklearn import svm\n",
    "clf=svm.SVC(kernel=\"linear\",gamma=\"auto\")\n",
    "clf.fit(X_train,Y_train)"
   ]
  },
  {
   "cell_type": "code",
   "execution_count": 21,
   "metadata": {},
   "outputs": [],
   "source": [
    "#getting predicted output\n",
    "y_pred=clf.predict(X_test)"
   ]
  },
  {
   "cell_type": "code",
   "execution_count": 22,
   "metadata": {},
   "outputs": [
    {
     "name": "stdout",
     "output_type": "stream",
     "text": [
      "              precision    recall  f1-score   support\n",
      "\n",
      "       False       0.84      1.00      0.91      2068\n",
      "        True       0.00      0.00      0.00       398\n",
      "\n",
      "    accuracy                           0.84      2466\n",
      "   macro avg       0.42      0.50      0.46      2466\n",
      "weighted avg       0.70      0.84      0.76      2466\n",
      " 0.8386050283860503\n"
     ]
    },
    {
     "name": "stderr",
     "output_type": "stream",
     "text": [
      "C:\\Users\\hp\\anaconda3\\lib\\site-packages\\sklearn\\metrics\\_classification.py:1221: UndefinedMetricWarning: Precision and F-score are ill-defined and being set to 0.0 in labels with no predicted samples. Use `zero_division` parameter to control this behavior.\n",
      "  _warn_prf(average, modifier, msg_start, len(result))\n"
     ]
    }
   ],
   "source": [
    "from sklearn.metrics import accuracy_score\n",
    "from sklearn.metrics import classification_report\n",
    "\n",
    "y=classification_report(Y_test,y_pred)\n",
    "z=accuracy_score(Y_test,y_pred)\n",
    "print(y,z)"
   ]
  },
  {
   "cell_type": "markdown",
   "metadata": {},
   "source": [
    "# Logistic Regression"
   ]
  },
  {
   "cell_type": "code",
   "execution_count": 23,
   "metadata": {},
   "outputs": [
    {
     "data": {
      "text/plain": [
       "LogisticRegression()"
      ]
     },
     "execution_count": 23,
     "metadata": {},
     "output_type": "execute_result"
    }
   ],
   "source": [
    "from sklearn.linear_model import LogisticRegression\n",
    "log_reg=LogisticRegression()\n",
    "log_reg.fit(X_train,Y_train)"
   ]
  },
  {
   "cell_type": "code",
   "execution_count": 24,
   "metadata": {},
   "outputs": [],
   "source": [
    "y_pred=log_reg.predict(X_test)"
   ]
  },
  {
   "cell_type": "code",
   "execution_count": 25,
   "metadata": {},
   "outputs": [
    {
     "name": "stdout",
     "output_type": "stream",
     "text": [
      "              precision    recall  f1-score   support\n",
      "\n",
      "       False       0.84      1.00      0.91      2068\n",
      "        True       0.00      0.00      0.00       398\n",
      "\n",
      "    accuracy                           0.84      2466\n",
      "   macro avg       0.42      0.50      0.46      2466\n",
      "weighted avg       0.70      0.84      0.76      2466\n",
      " 0.8386050283860503\n"
     ]
    },
    {
     "name": "stderr",
     "output_type": "stream",
     "text": [
      "C:\\Users\\hp\\anaconda3\\lib\\site-packages\\sklearn\\metrics\\_classification.py:1221: UndefinedMetricWarning: Precision and F-score are ill-defined and being set to 0.0 in labels with no predicted samples. Use `zero_division` parameter to control this behavior.\n",
      "  _warn_prf(average, modifier, msg_start, len(result))\n"
     ]
    }
   ],
   "source": [
    "p=classification_report(Y_test,y_pred)\n",
    "q=accuracy_score(y_pred,Y_test)\n",
    "print(p,q)"
   ]
  },
  {
   "cell_type": "code",
   "execution_count": null,
   "metadata": {},
   "outputs": [],
   "source": []
  },
  {
   "cell_type": "code",
   "execution_count": null,
   "metadata": {},
   "outputs": [],
   "source": []
  },
  {
   "cell_type": "markdown",
   "metadata": {},
   "source": [
    "# KNN"
   ]
  },
  {
   "cell_type": "code",
   "execution_count": 26,
   "metadata": {},
   "outputs": [
    {
     "data": {
      "text/plain": [
       "KNeighborsClassifier()"
      ]
     },
     "execution_count": 26,
     "metadata": {},
     "output_type": "execute_result"
    }
   ],
   "source": [
    "#training my classifier\n",
    "from sklearn.neighbors import KNeighborsClassifier\n",
    "clf=KNeighborsClassifier(n_neighbors=5)\n",
    "clf.fit(X_train,Y_train)"
   ]
  },
  {
   "cell_type": "code",
   "execution_count": 27,
   "metadata": {},
   "outputs": [],
   "source": [
    "#preidicting my output\n",
    "y_pred=clf.predict(X_test)"
   ]
  },
  {
   "cell_type": "code",
   "execution_count": 28,
   "metadata": {},
   "outputs": [
    {
     "name": "stdout",
     "output_type": "stream",
     "text": [
      "              precision    recall  f1-score   support\n",
      "\n",
      "       False       0.85      0.97      0.90      2068\n",
      "        True       0.34      0.09      0.14       398\n",
      "\n",
      "    accuracy                           0.82      2466\n",
      "   macro avg       0.59      0.53      0.52      2466\n",
      "weighted avg       0.76      0.82      0.78      2466\n",
      "\n"
     ]
    }
   ],
   "source": [
    "#classification report\n",
    "print(classification_report(Y_test,y_pred))"
   ]
  },
  {
   "cell_type": "code",
   "execution_count": 29,
   "metadata": {},
   "outputs": [
    {
     "name": "stdout",
     "output_type": "stream",
     "text": [
      "0.8248175182481752\n"
     ]
    }
   ],
   "source": [
    "#accracy score\n",
    "print(accuracy_score(y_pred,Y_test))"
   ]
  },
  {
   "cell_type": "code",
   "execution_count": null,
   "metadata": {},
   "outputs": [],
   "source": []
  },
  {
   "cell_type": "code",
   "execution_count": null,
   "metadata": {},
   "outputs": [],
   "source": []
  },
  {
   "cell_type": "code",
   "execution_count": null,
   "metadata": {},
   "outputs": [],
   "source": []
  },
  {
   "cell_type": "code",
   "execution_count": null,
   "metadata": {},
   "outputs": [],
   "source": []
  }
 ],
 "metadata": {
  "kernelspec": {
   "display_name": "Python 3",
   "language": "python",
   "name": "python3"
  },
  "language_info": {
   "codemirror_mode": {
    "name": "ipython",
    "version": 3
   },
   "file_extension": ".py",
   "mimetype": "text/x-python",
   "name": "python",
   "nbconvert_exporter": "python",
   "pygments_lexer": "ipython3",
   "version": "3.8.3"
  }
 },
 "nbformat": 4,
 "nbformat_minor": 4
}
